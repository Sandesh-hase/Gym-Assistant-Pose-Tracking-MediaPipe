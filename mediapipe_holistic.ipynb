{
  "cells": [
    {
      "cell_type": "markdown",
      "metadata": {
        "id": "D2PlazN5Q94l"
      },
      "source": [
        "Usage example of MediaPipe Holistic Solution API in Python (see also http://solutions.mediapipe.dev/holistic)."
      ]
    },
    {
      "cell_type": "code",
      "execution_count": null,
      "metadata": {
        "id": "AuQfLvpuJkb0"
      },
      "outputs": [],
      "source": [
        "!pip install mediapipe"
      ]
    },
    {
      "cell_type": "markdown",
      "metadata": {
        "id": "sWGG66XeRXEi"
      },
      "source": [
        "Upload any image that that has a person. We take two example images from the web: https://unsplash.com/photos/v4zceVZ5HK8 and https://unsplash.com/photos/e_rhazQLaSs.\n"
      ]
    },
    {
      "cell_type": "code",
      "execution_count": null,
      "metadata": {
        "id": "7SwzZ1nJLWt0"
      },
      "outputs": [],
      "source": [
        "from google.colab import files\n",
        "uploaded = files.upload()"
      ]
    },
    {
      "cell_type": "code",
      "execution_count": null,
      "metadata": {
        "colab": {
          "base_uri": "https://localhost:8080/",
          "height": 922
        },
        "id": "nW2TjFyhLvVH",
        "outputId": "c5c7c3c3-0da3-4cde-96c9-d80db9619f53"
      },
      "outputs": [],
      "source": [
        "import cv2\n",
        "from google.colab.patches import cv2_imshow\n",
        "import math\n",
        "import numpy as np\n",
        "\n",
        "DESIRED_HEIGHT = 480\n",
        "DESIRED_WIDTH = 480\n",
        "def resize_and_show(image):\n",
        "  h, w = image.shape[:2]\n",
        "  if h < w:\n",
        "    img = cv2.resize(image, (DESIRED_WIDTH, math.floor(h/(w/DESIRED_WIDTH))))\n",
        "  else:\n",
        "    img = cv2.resize(image, (math.floor(w/(h/DESIRED_HEIGHT)), DESIRED_HEIGHT))\n",
        "  cv2_imshow(img)\n",
        "\n",
        "# Read images with OpenCV.\n",
        "images = {name: cv2.imread(name) for name in uploaded.keys()}\n",
        "# Preview the images.\n",
        "for name, image in images.items():\n",
        "  print(name)\n",
        "  resize_and_show(image)"
      ]
    },
    {
      "cell_type": "markdown",
      "metadata": {
        "id": "7Fso4oNqXIkp"
      },
      "source": [
        "All MediaPipe Solutions Python API examples are under mp.solutions.\n",
        "\n",
        "For the MediaPipe Pose solution, we can access this module as `mp_holistic = mp.solutions.holistic`.\n",
        "\n",
        "You may change the parameters, such as `static_image_mode` and `min_detection_confidence`, during the initialization. Run `help(mp_holistic.Holistic)` to get more informations about the parameters."
      ]
    },
    {
      "cell_type": "code",
      "execution_count": null,
      "metadata": {
        "id": "BboTB-FAMfPo"
      },
      "outputs": [],
      "source": [
        "import mediapipe as mp\n",
        "mp_holistic = mp.solutions.holistic\n",
        "\n",
        "help(mp_holistic.Holistic)"
      ]
    },
    {
      "cell_type": "code",
      "execution_count": null,
      "metadata": {
        "id": "kekjK-RzCPm1"
      },
      "outputs": [],
      "source": [
        "# Import drawing_utils and drawing_styles.\n",
        "mp_drawing = mp.solutions.drawing_utils \n",
        "mp_drawing_styles = mp.solutions.drawing_styles"
      ]
    },
    {
      "cell_type": "code",
      "execution_count": null,
      "metadata": {
        "colab": {
          "base_uri": "https://localhost:8080/",
          "height": 974
        },
        "id": "BAivyQ_xOtFp",
        "outputId": "c9ea1f39-94a3-4781-9788-1c972def4368"
      },
      "outputs": [],
      "source": [
        "# Run MediaPipe Holistic and draw pose landmarks.\n",
        "with mp_holistic.Holistic(\n",
        "    static_image_mode=True, min_detection_confidence=0.5, model_complexity=2) as holistic:\n",
        "  for name, image in images.items():\n",
        "    # Convert the BGR image to RGB and process it with MediaPipe Pose.\n",
        "    results = holistic.process(cv2.cvtColor(image, cv2.COLOR_BGR2RGB))\n",
        "\n",
        "    # Print nose coordinates.\n",
        "    image_hight, image_width, _ = image.shape\n",
        "    if results.pose_landmarks:\n",
        "      print(\n",
        "        f'Nose coordinates: ('\n",
        "        f'{results.pose_landmarks.landmark[mp_holistic.PoseLandmark.NOSE].x * image_width}, '\n",
        "        f'{results.pose_landmarks.landmark[mp_holistic.PoseLandmark.NOSE].y * image_hight})'\n",
        "      )\n",
        "\n",
        "    # Draw pose landmarks.\n",
        "    print(f'Pose landmarks of {name}:')\n",
        "    annotated_image = image.copy()\n",
        "    mp_drawing.draw_landmarks(annotated_image, results.left_hand_landmarks, mp_holistic.HAND_CONNECTIONS)\n",
        "    mp_drawing.draw_landmarks(annotated_image, results.right_hand_landmarks, mp_holistic.HAND_CONNECTIONS)\n",
        "    mp_drawing.draw_landmarks(\n",
        "        annotated_image,\n",
        "        results.face_landmarks,\n",
        "        mp_holistic.FACEMESH_TESSELATION,\n",
        "        landmark_drawing_spec=None,\n",
        "        connection_drawing_spec=mp_drawing_styles\n",
        "        .get_default_face_mesh_tesselation_style())\n",
        "    mp_drawing.draw_landmarks(\n",
        "        annotated_image,\n",
        "        results.pose_landmarks,\n",
        "        mp_holistic.POSE_CONNECTIONS,\n",
        "        landmark_drawing_spec=mp_drawing_styles.\n",
        "        get_default_pose_landmarks_style())\n",
        "    resize_and_show(annotated_image)"
      ]
    },
    {
      "cell_type": "code",
      "execution_count": null,
      "metadata": {
        "colab": {
          "base_uri": "https://localhost:8080/",
          "height": 1000
        },
        "id": "vp-ohtBNSFkj",
        "outputId": "6ff73b83-7d6f-47a2-b635-cc91f8af3f48"
      },
      "outputs": [],
      "source": [
        "# Run MediaPipe Holistic and plot 3d pose world landmarks.\n",
        "with  mp_holistic.Holistic(static_image_mode=True) as holistic:\n",
        "  for name, image in images.items():\n",
        "    results = holistic.process(cv2.cvtColor(image, cv2.COLOR_BGR2RGB))\n",
        "\n",
        "    # Print the real-world 3D coordinates of nose in meters with the origin at\n",
        "    # the center between hips.\n",
        "    print('Nose world landmark:'),\n",
        "    print(results.pose_world_landmarks.landmark[mp_holistic.PoseLandmark.NOSE])\n",
        "    \n",
        "    # Plot pose world landmarks.\n",
        "    print(f'Pose world landmarks of {name}:')\n",
        "    mp_drawing.plot_landmarks(\n",
        "        results.pose_world_landmarks, mp_holistic.POSE_CONNECTIONS)"
      ]
    },
    {
      "cell_type": "code",
      "execution_count": null,
      "metadata": {
        "colab": {
          "base_uri": "https://localhost:8080/",
          "height": 922
        },
        "id": "_cOBhQbfh2DQ",
        "outputId": "df946923-c966-4c51-c49c-b3dc7052e654"
      },
      "outputs": [],
      "source": [
        "# Run MediaPipe Holistic with `enable_segmentation=True` to get pose segmentation.\n",
        "with mp_holistic.Holistic(\n",
        "    static_image_mode=True, enable_segmentation=True) as holistic:\n",
        "  for name, image in images.items():\n",
        "    results = holistic.process(cv2.cvtColor(image, cv2.COLOR_BGR2RGB))\n",
        "\n",
        "    # Draw pose segmentation.\n",
        "    print(f'Pose segmentation of {name}:')\n",
        "    annotated_image = image.copy()\n",
        "    red_img = np.zeros_like(annotated_image, dtype=np.uint8)\n",
        "    red_img[:, :] = (255,255,255)\n",
        "    segm_2class = 0.2 + 0.8 * results.segmentation_mask\n",
        "    segm_2class = np.repeat(segm_2class[..., np.newaxis], 3, axis=2)\n",
        "    annotated_image = annotated_image * segm_2class + red_img * (1 - segm_2class)\n",
        "    resize_and_show(annotated_image)"
      ]
    }
  ],
  "metadata": {
    "colab": {
      "provenance": []
    },
    "kernelspec": {
      "display_name": "Python 3",
      "name": "python3"
    },
    "language_info": {
      "codemirror_mode": {
        "name": "ipython",
        "version": 3
      },
      "file_extension": ".py",
      "mimetype": "text/x-python",
      "name": "python",
      "nbconvert_exporter": "python",
      "pygments_lexer": "ipython3",
      "version": "3.9.16"
    }
  },
  "nbformat": 4,
  "nbformat_minor": 0
}
